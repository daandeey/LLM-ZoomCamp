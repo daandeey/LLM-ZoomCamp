{
 "cells": [
  {
   "cell_type": "code",
   "execution_count": 12,
   "metadata": {},
   "outputs": [],
   "source": [
    "from tqdm.auto import tqdm"
   ]
  },
  {
   "cell_type": "markdown",
   "metadata": {},
   "source": [
    "## Load documents with IDs"
   ]
  },
  {
   "cell_type": "code",
   "execution_count": 1,
   "metadata": {},
   "outputs": [
    {
     "name": "stderr",
     "output_type": "stream",
     "text": [
      "/Users/dandyrahman/Documents/Projects/LLM-ZoomCamp/venv/lib/python3.9/site-packages/urllib3/__init__.py:35: NotOpenSSLWarning: urllib3 v2 only supports OpenSSL 1.1.1+, currently the 'ssl' module is compiled with 'LibreSSL 2.8.3'. See: https://github.com/urllib3/urllib3/issues/3020\n",
      "  warnings.warn(\n"
     ]
    }
   ],
   "source": [
    "import requests \n",
    "\n",
    "base_url = 'https://github.com/DataTalksClub/llm-zoomcamp/blob/main'\n",
    "relative_url = '03-vector-search/eval/documents-with-ids.json'\n",
    "docs_url = f'{base_url}/{relative_url}?raw=1'\n",
    "docs_response = requests.get(docs_url)\n",
    "documents = docs_response.json()"
   ]
  },
  {
   "cell_type": "code",
   "execution_count": 2,
   "metadata": {},
   "outputs": [
    {
     "data": {
      "text/plain": [
       "{'text': 'It depends on your background and previous experience with modules. It is expected to require about 5 - 15 hours per week. [source1] [source2]\\nYou can also calculate it yourself using this data and then update this answer.',\n",
       " 'section': 'General course-related questions',\n",
       " 'question': 'Course - \\u200b\\u200bHow many hours per week am I expected to spend on this  course?',\n",
       " 'course': 'data-engineering-zoomcamp',\n",
       " 'id': 'ea739c65'}"
      ]
     },
     "execution_count": 2,
     "metadata": {},
     "output_type": "execute_result"
    }
   ],
   "source": [
    "documents[10]"
   ]
  },
  {
   "cell_type": "markdown",
   "metadata": {},
   "source": [
    "## Load ground truth"
   ]
  },
  {
   "cell_type": "code",
   "execution_count": 3,
   "metadata": {},
   "outputs": [],
   "source": [
    "import pandas as pd\n",
    "\n",
    "base_url = 'https://github.com/DataTalksClub/llm-zoomcamp/blob/main'\n",
    "relative_url = '03-vector-search/eval/ground-truth-data.csv'\n",
    "ground_truth_url = f'{base_url}/{relative_url}?raw=1'\n",
    "\n",
    "df_ground_truth = pd.read_csv(ground_truth_url)\n",
    "df_ground_truth = df_ground_truth[df_ground_truth.course == 'machine-learning-zoomcamp']\n",
    "ground_truth = df_ground_truth.to_dict(orient='records')"
   ]
  },
  {
   "cell_type": "code",
   "execution_count": 4,
   "metadata": {},
   "outputs": [
    {
     "data": {
      "text/plain": [
       "{'question': 'Are sessions recorded if I miss one?',\n",
       " 'course': 'machine-learning-zoomcamp',\n",
       " 'document': '5170565b'}"
      ]
     },
     "execution_count": 4,
     "metadata": {},
     "output_type": "execute_result"
    }
   ],
   "source": [
    "ground_truth[10]"
   ]
  },
  {
   "cell_type": "code",
   "execution_count": 6,
   "metadata": {},
   "outputs": [
    {
     "data": {
      "text/plain": [
       "'Everything is recorded, so you won’t miss anything. You will be able to ask your questions for office hours in advance and we will cover them during the live stream. Also, you can always ask questions in Slack.'"
      ]
     },
     "execution_count": 6,
     "metadata": {},
     "output_type": "execute_result"
    }
   ],
   "source": [
    "doc_idx = {d['id']: d for d in documents}\n",
    "doc_idx['5170565b']['text']"
   ]
  },
  {
   "cell_type": "code",
   "execution_count": 8,
   "metadata": {},
   "outputs": [
    {
     "data": {
      "text/plain": [
       "dict_keys(['c02e79ef', '1f6520ca', '7842b56a', '0bbf41ec', '63394d91', '2ed9b986', '93e2c8ed', 'a482086d', 'eb56ae98', '4292531b', 'ea739c65', 'cb257ee5', '04aa4897', '9681be3b', 'a1daf537', 'be5bfee4', '0e424a44', '29865466', '016d46a1', '47972cb1', 'ddf6c1b3', 'ac25d3af', '251218fc', '3c0114ce', 'f43f5fe7', 'd061525d', '1cd01b2c', 'e4a7c3b0', '7cd1912e', '52393fb3', '10515af5', 'cdb86a97', '3e0114ad', 'b2799574', '2f19301f', '7c700adb', '44b14808', '76e4baf6', '48b533a8', '954044d1', 'a820b9b3', 'f2945cd2', 'eb9d376f', '72f25f6d', 'a1e59afc', '71c10610', '17a5aea1', '5a275db7', '7ec0f9b0', 'bb1ba786', '2f83dbe7', '543ff080', 'd407d65b', 'c9375c56', 'e866156b', '16370470', '316df755', 'f3aa9252', 'a4abe7a5', 'fb930700', 'aa187680', 'b000e899', '9c66759f', 'e3106e07', '72229da5', '58c9f99f', 'bc42139a', 'a146e3ee', '593a85ba', '50bd1a71', 'f409f751', '7d217da3', '09081824', '4df80c55', '3aee7261', '6497b659', 'a02f2039', 'c6db65aa', 'f476a606', 'e41b100c', 'cd0f9300', '7f845a1c', '36e54439', '32e8450c', '96606db2', '0882bfac', '7d067f5c', 'ff352621', '2d653208', 'f09ea61e', 'fbd3d2bb', '0b014d0c', 'd21bff1d', '6afb7b55', 'b51c3b82', '326af690', 'c2ec9047', '3b711e73', 'cfe07c9d', 'acf42bb8', '176ce516', '3e5d1e9b', '78833f32', '63823f21', 'b36ea564', 'e2a46ce5', '27bdbc3f', 'f7c5d8da', 'c91ad8f2', '88bf31a0', '23524e6d', '9211bbd6', '5db86809', '20c604dd', 'b11b8c15', 'a6475348', '1ea7680e', '10acd478', '752e8452', 'aa6f52b8', '3dacbb98', '8b71a398', 'aa244fa0', 'eac816d7', 'd44d1c77', 'ed34766a', 'fd714677', '9de2c3e9', '827dd4af', 'a42a7e8c', '4eefdd01', '0282578d', 'bd3e60fd', 'c4e9bc60', 'f10b49be', '3184bd8b', '8bea4d53', '86d11cc0', '2cb48591', '9523c813', '4f8d9174', '29f84a82', '20a01fd0', '5a712a20', '06021091', 'df8ea7e8', '1093daf5', '947213b1', '002d4943', '8dc77677', '29d3d343', 'e2095203', '22a2b9f2', '5d7588f0', '5276a695', '70c159df', 'f55efcf0', '2b7a8512', '1cd746c4', '6d367222', '84e601e1', '4cf83cc2', '5adc5188', '3ef0bb96', 'a41ce360', 'b1cf59e5', 'f9d6f8bd', 'f3adb937', 'eb3d6d36', 'a76e1f4d', '934facf8', 'a2c7b59f', '997d4aaa', 'bc269b95', '10ea342e', '4bd23594', 'b0d48cd7', '70a37f2c', '8ab78bee', '54c6db2f', 'c5b998f3', 'eec29536', '727e5a69', 'da899638', 'dde58c8f', '207be93b', 'f0617e65', '6290a1a6', '5a06248c', 'c46a2e9e', '0513ab8a', 'a9385356', 'c30468c0', '305aead7', '77410975', '0952abde', '7c4326eb', 'a1fc1a14', '6d67fba9', '06876291', '690ba010', 'b6fdd91d', '155aa868', 'e78cf960', '9afa1f74', 'fac138a7', '0174dde5', '1023ee65', 'effd2bfa', '5b55273c', '1835bfe0', '04656af5', '2d6536d3', '0516ccbe', '6052513d', '7a71fa2c', 'f83d9435', 'dbf65e11', 'c489266b', 'ebd63566', 'f7252f17', '47a43bb0', 'f3f13def', '4fd37712', '8abeca36', '16c16ff9', 'c65d8fd9', 'c1a95536', 'bba0da04', 'a2120335', 'a4ba2478', '74c361fe', 'b9b3ef9f', '009ac612', '68815ec2', 'c8ad08b3', 'd68b433f', 'e265ee5a', '0e7dfddc', '0a059700', 'feca7402', '1f519b1a', '43c454c7', 'd7ad69da', '03fdb780', '9c85f3aa', '63026349', '6ba02f77', '8b14286c', '14a876ea', '1cf5be74', '315ac3cc', 'c5c3beba', 'f19be91b', '33db7dc7', '67ef8f87', '6acf2e77', '18430f10', 'afb7a40a', 'd6a5b80e', 'de426d2f', '354f0e10', '98fae8d0', 'cb678fde', '39bfb043', '351a078a', '61da1919', '6528c6ae', 'c0d3a2e8', '859a97c5', '32469a2d', 'c599b3a0', '179df18d', '1ce1a275', 'b529b0bc', '2e51a111', '6e1a0834', 'a8657e65', '2678d8c2', 'aa85c6ae', 'de06929d', 'b087fa95', '3c41892d', '4842f3e8', '5eaf61fe', '8ed36cea', '46aebc79', 'e2d2bc58', '137aab88', 'a260e651', 'da8d9fcc', '2314e3c4', 'e7bdbba6', '52cccade', '11a814ea', '0d1e02d5', '0a0cc4c3', 'cb912983', '2d4e434f', 'bb6655b9', 'fc2eb036', '25daead9', '2221d75e', '94524a9d', '1f1ecbb7', 'c5af32ab', '1e6b7da1', '259481c4', 'edbae698', '67217f4c', '2aadd232', 'adcd914a', 'bbf094b3', '2fdc5057', '95e302f7', '1ac2c13c', '5cc0e4d9', '17090545', 'd17e30c6', '1520b5bc', 'e86ca928', '3b5b4eb3', '489c366f', '59381b15', '220b1cf3', 'd970a0da', '5fa98bd0', 'ce508f3c', 'b7b9487d', 'a74de125', 'e5270303', 'cabe8a5b', 'e3c0f777', '50c009ef', '3fe85b16', '0fe0c76a', '18c5bafe', '59e86b40', '1ac3ea8f', 'e04529ac', 'a602a7f8', '9336ce2c', 'bac4e0f7', '13dad632', 'ddc3c75b', '095b667f', '56a67c23', '7fed7813', 'a0e7e259', '4ca14331', '6fdd09eb', '64bfb2c3', '33dd4516', '504b8570', '42e933c5', 'fe9240b0', 'c0a46e5d', '943c2466', 'f41ef231', '6b26d73c', '830e2936', '02007b7c', '1ebb9a47', '80125745', 'f01df45b', '06014eec', '54653ca9', 'f95304db', '591df4e6', '5cb7f597', 'c5de1f96', '70ac8e80', 'f6551ffb', '0ec021de', '1edd4630', '4664ae28', '676e1b76', 'a3c84279', '119c917d', 'f1284c1f', '49a7db28', '196cb0f2', '1e50eab7', 'a7a6d0d7', '0996213a', '311bf368', 'c1551650', 'f9b673cf', '5479dce2', '02cf2317', '947c07a6', 'bea22953', 'a1603359', 'a85a6a91', '343864f5', '6cb3b4a9', '5959ea3c', '202af70b', 'f2705fe7', '74f412c4', '5214eb93', '3cfd16a7', 'a7cecdf9', '2aad1011', 'cb478996', 'b4ef8ca7', '8e74f943', 'a73ed357', 'd5b6ef5d', 'b406d90e', '0002ab8b', '138b55c7', '154d7705', 'f96517d9', '773587dd', '73aff710', '0728ca67', '49a51e24', 'f0d552a7', '9c750080', '6f4998e6', '97170587', '4def6541', '66e117dd', '94fd2476', '70d83d78', 'accb7285', 'cbca4495', '78fce6ad', '68842c02', '71b1984b', 'd452b490', '707cae8f', 'ffbf3311', '3916f4a9', '0227b872', '39fda9f0', '5170565b', 'ecca790c', 'c25b3de4', '6ba259b1', '67e2fd13', 'a6897e8c', '2eba08e3', '1d644223', '14890cd2', 'a4fad482', '34b7fd35', '4930aa19', 'ee58a693', '636f55d5', 'c839b764', '0a278fb2', '8de4fefd', '94e86808', 'e7ba6b8a', 'f7bc2f65', 'ae52a907', 'dab5a24a', '49f9bda9', 'd44de7d1', '314ebe32', '98cff602', '54ec0de4', 'f81f4ecb', 'be760b92', 'a2cfa1c9', '7b907071', 'fc2e0a61', 'd43e5742', '32bc0538', 'b6730228', '3ce9bbb8', '4e584d06', 'ff4da2b6', '58c1c168', '96076a1a', '3218389a', '183a1c90', 'f0bc1c19', '735e6c78', 'b8ca1cd3', 'efdb235f', '355348f0', '67afabf5', '50d737e7', 'bbc0fca3', '6f3bdd20', '27c2d90a', '88e9600a', 'd59d8df7', '0b3eaf92', '8fe56032', 'af833e0a', '8d209d6d', '0bc4c3da', 'c0ee2665', '3f60871d', 'f30217a7', '91fc573d', 'fe3139f6', '48aac030', '28321bc2', 'edb92d22', 'f488ce85', 'bf395099', '01cd3b35', '5551c92e', '94f928d2', '266faa6d', 'c21f99f5', '13702957', '7cd652c5', 'e1f93d10', '36b9d1b7', '3c8b32a1', '05fb3a16', '225506b9', 'bd4a1395', '81b8e8d0', 'a7f6a33c', '129b4ac0', 'b8cca8b7', '1091b10f', '0c7715a1', 'd2043cf5', '44d22817', '1f76dbeb', 'b8071a54', 'b8da9037', '467e0cec', 'b69f32f6', '3b3b1989', 'eb5771a0', 'bca10281', '34a8edb0', 'f625307b', '7fa98526', '0807f0f3', '6d0fb418', 'fbda1f40', '0f88b7ac', '9ffcc895', '94a3b2fb', 'fb9a45d8', 'e31051f7', '493b7b59', '4a55c510', '3ca0b489', '690d97f1', 'eb5a25cb', '6d9e0a6f', '618ad97a', '683495d2', 'dc1897b5', '826098f2', '821dfc08', '27c8d5da', 'a52d4739', 'dc55359c', '2ab49e43', 'b431e7eb', 'c5fdeba9', 'b8c9eaf1', 'c54058a1', 'b4b85c4b', '7d40f6f6', 'f5dc446c', 'd30fc29d', '8eca9f73', '7b9eb7f7', 'c4aaeed9', '3af31e2a', '746342ff', 'bda2c9b3', '41521c92', '25481ce5', '1427d567', '76c91dfb', 'e4dd91cf', 'cc53ae94', '403bbdd8', '7c68ace0', '147577f5', 'd3ffb802', 'cc04d27a', '927b5e09', 'd22efea7', 'd1409f67', 'e07759e9', '620fb76e', '957280d8', '185096ad', 'ec88d101', '7156679d', '4b2a3181', '73bd7fa1', 'a4d3b1e5', '1d462fe0', '366d7563', 'cef156d1', 'b632d2ea', '514e27bb', '5c67e086', '63a81b57', '047f57fb', '11f7371c', '45f39b76', '94e17563', '9dd8efd2', '9531dc92', '14e0e697', '6189375f', '3419ee27', '8b8c1603', 'e54d5411', 'f7b38587', 'be86b333', '4ea80460', '8006b496', '704f95d8', 'a5b3296b', 'a23b276a', '3537eeee', '1d6d5b51', '3a98b6b7', 'd42eb923', '42aebe10', 'e4f62713', 'c13d811f', 'dfb41f7e', 'd04e77f8', '451c067f', '9fbfcd61', '1ed8cfde', '3f97f50f', 'a24a874a', 'bf563b1f', '21e9facf', 'aef786aa', '68858294', '85ac722e', 'b61d2e92', '8d7392cb', 'c920eef3', '5017c9a4', '6ffe101d', 'a55b29ff', 'eac70ce3', '5f91f8ca', 'a3be507a', '9a8faa50', 'a6e384fe', 'ddc14ada', '593f7569', '6cb56405', 'a22a93f1', 'b6259dea', 'bcfdc6f4', 'a7e7cdd2', '55477da8', '6a245a05', '4405bfca', '3e0acc25', 'abaecdf8', 'ff40f83b', '95a16746', '46acdd18', 'f721d54b', '69cd4897', '346e799a', '551461b2', 'c3ba4459', 'a114ad55', 'dd3c8000', '34b0ebfc', '7d11d5ce', 'e4e45f15', 'b3997e6f', 'e414df91', 'f20a3479', 'e7af4968', '9fad096e', 'bcdf7407', '8d1e7e20', '2023a9dc', '468f69ff', 'c4ff26e5', '62722d72', 'd1419be1', 'a5f6f439', '879c1ec0', '3ac604c3', '0315aa96', 'daf84bc3', '1e956ca7', '3ee083ab', 'f826cba4', '60fa95ed', '53f3ee10', '93aa4278', '0edeb016', 'ba186de6', 'da2f1cf4', '7fd648ca', '42c09143', 'd6d534fc', 'b2c0c554', '819afebc', '74551c54', '4d98cd09', '59a81fd5', '35dbd6e2', 'e5fe9efe', '5c043c62', 'af0739da', '451bc25d', 'ea2e7458', '6ce8e875', 'b50e9e2b', '29311ef5', '1e0dc11c', '1078aeb7', '7daaca73', '0cfbe2e2', '1460fb65', 'd4f9efdc', '6a417bfe', 'ed8b300d', 'a64aed6b', '727238ee', '85d4901d', 'df023a13', '48e92d65', '1685cae4', '4fb7b21e', '8bd3bfc2', '03b5fc59', '7c31bc9a', '605efc12', 'c5cde96c', 'd45d2da6', '59823c72', '665f7b27', '0a406fe0', '64b209b0', '518c4cb8', '00882c83', 'd6d483ce', 'f9711723', '5bda3b94', 'cccd31cf', '57f49999', '5cb58698', 'de650b41', '9ffacaac', '4dfb5d4f', '0b8739b7', '9eb52679', '7a1fcfd9', '1cfa62c5', '2a78f52e', '68aeab64', '9a7c26e0', '1fd83eb9', 'fbaa5b20', '37eab341', '57754faf', '6979c5d1', 'a1bd8c34', 'b2ab0fc1', '80c439a9', 'ff93b86e', 'fcd86c8f', '236864c2', 'efc4a04f', '15f361b7', 'dbbce78b', 'f3a00e15', '9102b3c0', '70d89fdf', 'c5d6a804', '8c7f089f', '739bcccf', '4603e4e5', '0a7c328e', '77efd069', 'cc60f7bc', 'aa13dd66', 'c41e479c', '2f28dcf1', '7a69cccf', '20174c95', 'f2cd48b6', '59b4324f', 'e1dc1ed9', 'fc60bf3b', '1e60e888', '44552c2e', '7116b3be', '5d4d206e', '387093cc', 'd12a2657', 'eb7a57a6', 'd6f0c6ea', '9f261648', 'aa7ff0f7', '387bdc5f', 'c6a22665', '0560e827', '59812e77', 'dce0bb09', '4920d4e9', '0f1d2765', '4eef2f81', '7f93c032', 'ee6f7c89', 'b63b12e0', '892c22c1', '13d38e8d', '7d64e9e0', '645f0a55', '7297b7fc', '68154f64', 'dc7b6f51', 'b25c6ca3', '9f69ca26', '0f1ddc9e', '01f61154', 'd43c32ba', 'a044d267', 'abf8ccdc', '26918af3', 'a5234ac0', 'af22c52a', '2aaac94c', '9d15c9e9', '79b88d0b', '45485322', 'd5eab395', '282957fb', '39ad14fd', 'e34df2a5', 'c91b6b57', '4aa8eafc', 'a9daaab0', '931f9626', '782e1723', '4e08c86a', '34bcad27', '96144e66', '840f739d', 'bf006ff9', 'f178d4a0', 'b80401a2', '88002d35', 'fe61aa5b', 'b9adeb39', 'ebc13686', '939f9c33', 'b5c3e6af', '80554fc2', '943df153', 'b8d3c55e', '67bf60c6', '336f5e36', 'fd2b9972', '75cd9b7a', '51c99586', '089c8c18', 'f4b82056', 'dd2e7dc9', '3fcbd80e', '924fcf47', '58240887', '67d343f2', '6de95c2a', '2ff28e5b', '29c6bbf1', 'bd09df94', 'af887c59', 'ee7c59ea', 'a2531c75', 'bc4b2320', 'f69fb077', 'e223524c', '0f08bec7', '8b4b1685', 'ecfc5c07', 'a1b68c52', '483e7d61', 'e5c33f50', 'cbf13b19', '39861d6e', '3dac15ff', '32686722', '22521751', '81ad4784', '29b5651e', 'ca79bbe8', '668f1ad9', '7a6f23eb', '232e5557', 'e44ec04a', '55fdb8b9', 'bf9082a2', 'e7906e44', '76d8892e', 'c5c2c82a', '82b6c143', '77d9a742', '1667e95d', '624a3525', '1db86601', '047baefe', '4f240372', '7aef625b', 'a3aa3a7d', 'd2719204', '30b8e8e6', 'f33fc6e9', 'd828de2a', '03f20ec1', '249726fe', '4e492af0', '10011dc1', '92fb909a', '2b8cb640', 'd4ceab0b', '482e575f', '33e775eb', '19a3d34a', '55c68f23', '54020f0a', 'b6249d2c', '31543d95', 'e147bbb6', 'dc55657f', 'f6979915', '1076a121', 'aa203ca7', '8b04605d', 'a3b9af04', 'b16aae74', '66326a87', 'fb3c4150', '886d1617'])"
      ]
     },
     "execution_count": 8,
     "metadata": {},
     "output_type": "execute_result"
    }
   ],
   "source": [
    "doc_idx.keys()"
   ]
  },
  {
   "cell_type": "markdown",
   "metadata": {},
   "source": [
    "## Index data"
   ]
  },
  {
   "cell_type": "code",
   "execution_count": 9,
   "metadata": {},
   "outputs": [
    {
     "name": "stderr",
     "output_type": "stream",
     "text": [
      "/Users/dandyrahman/Documents/Projects/LLM-ZoomCamp/venv/lib/python3.9/site-packages/tqdm/auto.py:21: TqdmWarning: IProgress not found. Please update jupyter and ipywidgets. See https://ipywidgets.readthedocs.io/en/stable/user_install.html\n",
      "  from .autonotebook import tqdm as notebook_tqdm\n"
     ]
    }
   ],
   "source": [
    "from sentence_transformers import SentenceTransformer\n",
    "\n",
    "model_name = 'multi-qa-MiniLM-L6-cos-v1'\n",
    "model = SentenceTransformer(model_name)"
   ]
  },
  {
   "cell_type": "code",
   "execution_count": 10,
   "metadata": {},
   "outputs": [
    {
     "name": "stdout",
     "output_type": "stream",
     "text": [
      "Index 'course-questions' already exists.\n"
     ]
    }
   ],
   "source": [
    "from elasticsearch import Elasticsearch\n",
    "\n",
    "es_client = Elasticsearch('http://localhost:9200')\n",
    "\n",
    "index_settings = {\n",
    "    \"settings\": {\n",
    "        \"number_of_shards\": 1,\n",
    "        \"number_of_replicas\": 0\n",
    "    },\n",
    "    \"mappings\": {\n",
    "        \"properties\": {\n",
    "            \"text\": {\"type\": \"text\"},\n",
    "            \"section\": {\"type\": \"text\"},\n",
    "            \"question\": {\"type\": \"text\"},\n",
    "            \"course\": {\"type\": \"keyword\"},\n",
    "            \"id\": {\"type\": \"keyword\"},\n",
    "            \"question_text_vector\": {\n",
    "                \"type\": \"dense_vector\",\n",
    "                \"dims\": 384,\n",
    "                \"index\": True,\n",
    "                \"similarity\": \"cosine\"\n",
    "            },\n",
    "        }\n",
    "    }\n",
    "}\n",
    "\n",
    "index_name = \"course-questions\"\n",
    "\n",
    "# Check if the index already exists\n",
    "if not es_client.indices.exists(index=index_name):\n",
    "    es_client.indices.create(index=index_name, body=index_settings)\n",
    "    print(f\"Index '{index_name}' created successfully.\")\n",
    "\n",
    "    \n",
    "    # Filling index\n",
    "    for doc in tqdm(documents):\n",
    "        question = doc['question']\n",
    "        text = doc['text']\n",
    "        doc['question_text_vector'] = model.encode(question + ' ' + text)\n",
    "\n",
    "        es_client.index(index=index_name, document=doc)\n",
    "\n",
    "else:\n",
    "    print(f\"Index '{index_name}' already exists.\")"
   ]
  },
  {
   "cell_type": "markdown",
   "metadata": {},
   "source": [
    "## Retrieval\n"
   ]
  },
  {
   "cell_type": "code",
   "execution_count": 13,
   "metadata": {},
   "outputs": [],
   "source": [
    "def elastic_search_knn(field, vector, course):\n",
    "    knn = {\n",
    "        \"field\": field,\n",
    "        \"query_vector\": vector,\n",
    "        \"k\": 5,\n",
    "        \"num_candidates\": 10000,\n",
    "        \"filter\": {\n",
    "            \"term\": {\n",
    "                \"course\": course\n",
    "            }\n",
    "        }\n",
    "    }\n",
    "\n",
    "    search_query = {\n",
    "        \"knn\": knn,\n",
    "        \"_source\": [\"text\", \"section\", \"question\", \"course\", \"id\"]\n",
    "    }\n",
    "\n",
    "    es_results = es_client.search(\n",
    "        index=index_name,\n",
    "        body=search_query\n",
    "    )\n",
    "    \n",
    "    result_docs = []\n",
    "    \n",
    "    for hit in es_results['hits']['hits']:\n",
    "        result_docs.append(hit['_source'])\n",
    "\n",
    "    return result_docs\n",
    "\n",
    "def question_text_vector_knn(q):\n",
    "    question = q['question']\n",
    "    course = q['course']\n",
    "\n",
    "    v_q = model.encode(question)\n",
    "\n",
    "    return elastic_search_knn('question_text_vector', v_q, course)"
   ]
  },
  {
   "cell_type": "code",
   "execution_count": 14,
   "metadata": {},
   "outputs": [
    {
     "data": {
      "text/plain": [
       "[{'question': 'What if I miss a session?',\n",
       "  'course': 'machine-learning-zoomcamp',\n",
       "  'section': 'General course-related questions',\n",
       "  'text': 'Everything is recorded, so you won’t miss anything. You will be able to ask your questions for office hours in advance and we will cover them during the live stream. Also, you can always ask questions in Slack.',\n",
       "  'id': '5170565b'},\n",
       " {'question': 'Is it going to be live? When?',\n",
       "  'course': 'machine-learning-zoomcamp',\n",
       "  'section': 'General course-related questions',\n",
       "  'text': 'The course videos are pre-recorded, you can start watching the course right now.\\nWe will also occasionally have office hours - live sessions where we will answer your questions. The office hours sessions are recorded too.\\nYou can see the office hours as well as the pre-recorded course videos in the course playlist on YouTube.',\n",
       "  'id': '39fda9f0'},\n",
       " {'question': 'The same accuracy on epochs',\n",
       "  'course': 'machine-learning-zoomcamp',\n",
       "  'section': '8. Neural Networks and Deep Learning',\n",
       "  'text': \"Problem description\\nThe accuracy and the loss are both still the same or nearly the same while training.\\nSolution description\\nIn the homework, you should set class_mode='binary' while reading the data.\\nAlso, problem occurs when you choose the wrong optimizer, batch size, or learning rate\\nAdded by Ekaterina Kutovaia\",\n",
       "  'id': '7d11d5ce'},\n",
       " {'question': 'Useful Resource for Missing Data Treatment\\nhttps://www.kaggle.com/code/parulpandey/a-guide-to-handling-missing-values-in-python/notebook',\n",
       "  'course': 'machine-learning-zoomcamp',\n",
       "  'section': '2. Machine Learning for Regression',\n",
       "  'text': '(Hrithik Kumar Advani)',\n",
       "  'id': '81b8e8d0'},\n",
       " {'question': 'Will I get a certificate if I missed the midterm project?',\n",
       "  'course': 'machine-learning-zoomcamp',\n",
       "  'section': 'General course-related questions',\n",
       "  'text': \"Yes, it's possible. See the previous answer.\",\n",
       "  'id': '1d644223'}]"
      ]
     },
     "execution_count": 14,
     "metadata": {},
     "output_type": "execute_result"
    }
   ],
   "source": [
    "question_text_vector_knn(dict(\n",
    "    question='Are sessions recorded if I miss one?',\n",
    "    course='machine-learning-zoomcamp'\n",
    "))"
   ]
  },
  {
   "cell_type": "markdown",
   "metadata": {},
   "source": [
    "## The RAG flow\n"
   ]
  },
  {
   "cell_type": "code",
   "execution_count": 15,
   "metadata": {},
   "outputs": [],
   "source": [
    "def build_prompt(query, search_results):\n",
    "    prompt_template = \"\"\"\n",
    "You're a course teaching assistant. Answer the QUESTION based on the CONTEXT from the FAQ database.\n",
    "Use only the facts from the CONTEXT when answering the QUESTION.\n",
    "\n",
    "QUESTION: {question}\n",
    "\n",
    "CONTEXT: \n",
    "{context}\n",
    "\"\"\".strip()\n",
    "\n",
    "    context = \"\"\n",
    "    \n",
    "    for doc in search_results:\n",
    "        context = context + f\"section: {doc['section']}\\nquestion: {doc['question']}\\nanswer: {doc['text']}\\n\\n\"\n",
    "    \n",
    "    prompt = prompt_template.format(question=query, context=context).strip()\n",
    "    return prompt"
   ]
  },
  {
   "cell_type": "code",
   "execution_count": 16,
   "metadata": {},
   "outputs": [],
   "source": [
    "from openai import OpenAI\n",
    "\n",
    "client = OpenAI()\n",
    "\n",
    "def llm(prompt, model='gpt-4o'):\n",
    "    response = client.chat.completions.create(\n",
    "        model=model,\n",
    "        messages=[{\"role\": \"user\", \"content\": prompt}]\n",
    "    )\n",
    "    \n",
    "    return response.choices[0].message.content"
   ]
  },
  {
   "cell_type": "code",
   "execution_count": 27,
   "metadata": {},
   "outputs": [],
   "source": [
    "# previously: rag(query: str) -> str\n",
    "def rag(query: dict, model='gpt-4o') -> str:\n",
    "    search_results = question_text_vector_knn(query)\n",
    "    prompt = build_prompt(query['question'], search_results)\n",
    "    answer = llm(prompt, model=model)\n",
    "\n",
    "    return answer"
   ]
  },
  {
   "cell_type": "code",
   "execution_count": 18,
   "metadata": {},
   "outputs": [
    {
     "data": {
      "text/plain": [
       "{'question': 'Are sessions recorded if I miss one?',\n",
       " 'course': 'machine-learning-zoomcamp',\n",
       " 'document': '5170565b'}"
      ]
     },
     "execution_count": 18,
     "metadata": {},
     "output_type": "execute_result"
    }
   ],
   "source": [
    "ground_truth[10]"
   ]
  },
  {
   "cell_type": "code",
   "execution_count": 28,
   "metadata": {},
   "outputs": [
    {
     "data": {
      "text/plain": [
       "'Yes, sessions are recorded if you miss one. You can access the recordings and catch up on any missed content. Additionally, you can ask your questions in advance for office hours, which are also recorded, and engage through Slack.'"
      ]
     },
     "execution_count": 28,
     "metadata": {},
     "output_type": "execute_result"
    }
   ],
   "source": [
    "rag(ground_truth[10])"
   ]
  },
  {
   "cell_type": "code",
   "execution_count": 29,
   "metadata": {},
   "outputs": [
    {
     "data": {
      "text/plain": [
       "'Everything is recorded, so you won’t miss anything. You will be able to ask your questions for office hours in advance and we will cover them during the live stream. Also, you can always ask questions in Slack.'"
      ]
     },
     "execution_count": 29,
     "metadata": {},
     "output_type": "execute_result"
    }
   ],
   "source": [
    "doc_idx['5170565b']['text']"
   ]
  },
  {
   "cell_type": "markdown",
   "metadata": {},
   "source": [
    "## Cosine similarity metric\n"
   ]
  },
  {
   "cell_type": "code",
   "execution_count": 32,
   "metadata": {},
   "outputs": [
    {
     "data": {
      "text/plain": [
       "0.6965563"
      ]
     },
     "execution_count": 32,
     "metadata": {},
     "output_type": "execute_result"
    }
   ],
   "source": [
    "answer_llm = 'Yes, sessions are recorded if you miss one. You can access the recordings and catch up on any missed content. Additionally, you can ask your questions in advance for office hours, which are also recorded, and engage through Slack.'\n",
    "answer_orig = 'Everything is recorded, so you won’t miss anything. You will be able to ask your questions for office hours in advance and we will cover them during the live stream. Also, you can always ask questions in Slack.'\n",
    "\n",
    "v_llm = model.encode(answer_llm)\n",
    "v_orig = model.encode(answer_orig)\n",
    "\n",
    "v_llm.dot(v_orig)"
   ]
  },
  {
   "cell_type": "markdown",
   "metadata": {},
   "source": [
    "## Calculating Cosine Similarity for Every Question"
   ]
  },
  {
   "cell_type": "markdown",
   "metadata": {},
   "source": [
    "### GPT4o"
   ]
  },
  {
   "cell_type": "code",
   "execution_count": 44,
   "metadata": {},
   "outputs": [],
   "source": [
    "answers = {}"
   ]
  },
  {
   "cell_type": "code",
   "execution_count": 46,
   "metadata": {},
   "outputs": [
    {
     "name": "stderr",
     "output_type": "stream",
     "text": [
      "  1%|          | 10/1830 [00:37<1:53:39,  3.75s/it]\n"
     ]
    }
   ],
   "source": [
    "count = 0\n",
    "\n",
    "for i, rec in enumerate(tqdm(ground_truth)):\n",
    "    if count == 10:\n",
    "        break\n",
    "\n",
    "    if i in answers:\n",
    "        continue\n",
    "\n",
    "    answer_llm = rag(rec)\n",
    "    doc_id = rec['document']\n",
    "    original_doc = doc_idx[doc_id]\n",
    "    answer_orig = original_doc['text']\n",
    "\n",
    "    answers[i] = {\n",
    "        'answer_llm': answer_llm,\n",
    "        'answer_orig': answer_orig,\n",
    "        'document': doc_id,\n",
    "        'question': rec['question'],\n",
    "        'course': rec['course'],\n",
    "\n",
    "    }\n",
    "\n",
    "    count += 1"
   ]
  },
  {
   "cell_type": "code",
   "execution_count": 47,
   "metadata": {},
   "outputs": [
    {
     "data": {
      "text/plain": [
       "{0: {'answer_llm': 'You can sign up for the course by going to the course page at http://mlzoomcamp.com/. From there, scroll down to access and start going through the course materials. If you are looking for the syllabus directly, you can use this link: http://mlzoomcamp.com/#syllabus.',\n",
       "  'answer_orig': 'Machine Learning Zoomcamp FAQ\\nThe purpose of this document is to capture frequently asked technical questions.\\nWe did this for our data engineering course and it worked quite well. Check this document for inspiration on how to structure your questions and answers:\\nData Engineering Zoomcamp FAQ\\nIn the course GitHub repository there’s a link. Here it is: https://airtable.com/shryxwLd0COOEaqXo\\nwork',\n",
       "  'document': '0227b872',\n",
       "  'question': 'Where can I sign up for the course?',\n",
       "  'course': 'machine-learning-zoomcamp'},\n",
       " 1: {'answer_llm': 'You can find the link to sign up in the course GitHub repository. Here it is: [https://airtable.com/shryxwLd0COOEaqXo](https://airtable.com/shryxwLd0COOEaqXo).',\n",
       "  'answer_orig': 'Machine Learning Zoomcamp FAQ\\nThe purpose of this document is to capture frequently asked technical questions.\\nWe did this for our data engineering course and it worked quite well. Check this document for inspiration on how to structure your questions and answers:\\nData Engineering Zoomcamp FAQ\\nIn the course GitHub repository there’s a link. Here it is: https://airtable.com/shryxwLd0COOEaqXo\\nwork',\n",
       "  'document': '0227b872',\n",
       "  'question': 'Can you provide a link to sign up?',\n",
       "  'course': 'machine-learning-zoomcamp'},\n",
       " 2: {'answer_llm': 'Yes, there is an FAQ for the Machine Learning course. You can find it in the course GitHub repository via this link: [Machine Learning Zoomcamp FAQ](https://airtable.com/shryxwLd0COOEaqXo).',\n",
       "  'answer_orig': 'Machine Learning Zoomcamp FAQ\\nThe purpose of this document is to capture frequently asked technical questions.\\nWe did this for our data engineering course and it worked quite well. Check this document for inspiration on how to structure your questions and answers:\\nData Engineering Zoomcamp FAQ\\nIn the course GitHub repository there’s a link. Here it is: https://airtable.com/shryxwLd0COOEaqXo\\nwork',\n",
       "  'document': '0227b872',\n",
       "  'question': 'Is there an FAQ for this Machine Learning course?',\n",
       "  'course': 'machine-learning-zoomcamp'},\n",
       " 3: {'answer_llm': 'The information provided does not indicate that the course has a specific GitHub repository for the sign-up link. The context contains information about making personal GitHub repositories public for homework, creating personal repositories for course notes and projects, and technical advice related to GitHub use, but there is no mention of a GitHub repository specifically for signing up for the course.',\n",
       "  'answer_orig': 'Machine Learning Zoomcamp FAQ\\nThe purpose of this document is to capture frequently asked technical questions.\\nWe did this for our data engineering course and it worked quite well. Check this document for inspiration on how to structure your questions and answers:\\nData Engineering Zoomcamp FAQ\\nIn the course GitHub repository there’s a link. Here it is: https://airtable.com/shryxwLd0COOEaqXo\\nwork',\n",
       "  'document': '0227b872',\n",
       "  'question': 'Does this course have a GitHub repository for the sign-up link?',\n",
       "  'course': 'machine-learning-zoomcamp'},\n",
       " 4: {'answer_llm': 'When structuring your questions and answers for the course, here are a few tips based on the context provided:\\n\\n1. **Clarity and Specificity**: Ensure that your questions are clear and specific. Avoid ambiguous language to prevent confusion. For example, instead of asking, \"What should I do next?\" specify the context like, \"I just joined. What should I do next? How can I access the course materials?\"\\n\\n2. **Resource Links**: Provide direct links to resources when referencing course materials. For example, when directing students to course content, you can include a link like, \"Go to the course page (http://mlzoomcamp.com/) and scroll down to start going through the course materials.\"\\n\\n3. **Time Estimates**: Give realistic time estimates for tasks or course completion. For instance, \"The course is approximately 4 months long, but it may take longer if you want to engage in extra activities.\"\\n\\n4. **Language and Tools**: Specify the tools and programming languages recommended for the course. For example, \"It is advisable to use Python 3.10 for the 2023 cohort as some homework(s) ask for specific library versions.\"\\n\\n5. **Course Structure and Resources Availability**: Inform students about additional resources such as recorded office hours, which can aid in their learning. For example, \"Watch office hours from previous cohorts on the DTC YouTube channel.\"\\n\\n6. **Peer Review Compatibility**: Emphasize compatibility issues when considering alternative languages or tools. For example, \"Using languages other than Python may result in peer review penalties as your peer-reviewers may not be familiar with these languages.\"\\n\\nRemember to address each question with a comprehensive but concise answer directly related to the course guidelines and materials.',\n",
       "  'answer_orig': 'Machine Learning Zoomcamp FAQ\\nThe purpose of this document is to capture frequently asked technical questions.\\nWe did this for our data engineering course and it worked quite well. Check this document for inspiration on how to structure your questions and answers:\\nData Engineering Zoomcamp FAQ\\nIn the course GitHub repository there’s a link. Here it is: https://airtable.com/shryxwLd0COOEaqXo\\nwork',\n",
       "  'document': '0227b872',\n",
       "  'question': 'How can I structure my questions and answers for the course?',\n",
       "  'course': 'machine-learning-zoomcamp'},\n",
       " 5: {'answer_llm': 'The course videos are pre-recorded. You can start watching them right away. Additionally, there are occasional live office hours sessions where questions are answered; these sessions are also recorded and made available.',\n",
       "  'answer_orig': 'The course videos are pre-recorded, you can start watching the course right now.\\nWe will also occasionally have office hours - live sessions where we will answer your questions. The office hours sessions are recorded too.\\nYou can see the office hours as well as the pre-recorded course videos in the course playlist on YouTube.',\n",
       "  'document': '39fda9f0',\n",
       "  'question': 'Are the course videos live or pre-recorded?',\n",
       "  'course': 'machine-learning-zoomcamp'},\n",
       " 6: {'answer_llm': 'You can start watching the course videos right now. The course videos are pre-recorded and available immediately for viewing. Enjoy the course!',\n",
       "  'answer_orig': 'The course videos are pre-recorded, you can start watching the course right now.\\nWe will also occasionally have office hours - live sessions where we will answer your questions. The office hours sessions are recorded too.\\nYou can see the office hours as well as the pre-recorded course videos in the course playlist on YouTube.',\n",
       "  'document': '39fda9f0',\n",
       "  'question': 'When can I start watching the course videos?',\n",
       "  'course': 'machine-learning-zoomcamp'},\n",
       " 7: {'answer_llm': 'Yes, the live office hours sessions are recorded. You can watch them later in the course playlist on YouTube.',\n",
       "  'answer_orig': 'The course videos are pre-recorded, you can start watching the course right now.\\nWe will also occasionally have office hours - live sessions where we will answer your questions. The office hours sessions are recorded too.\\nYou can see the office hours as well as the pre-recorded course videos in the course playlist on YouTube.',\n",
       "  'document': '39fda9f0',\n",
       "  'question': 'Are the live office hours sessions recorded?',\n",
       "  'course': 'machine-learning-zoomcamp'},\n",
       " 8: {'answer_llm': 'You can find the office hours sessions in the course playlist on YouTube.',\n",
       "  'answer_orig': 'The course videos are pre-recorded, you can start watching the course right now.\\nWe will also occasionally have office hours - live sessions where we will answer your questions. The office hours sessions are recorded too.\\nYou can see the office hours as well as the pre-recorded course videos in the course playlist on YouTube.',\n",
       "  'document': '39fda9f0',\n",
       "  'question': 'Where can I find the office hours sessions?',\n",
       "  'course': 'machine-learning-zoomcamp'},\n",
       " 9: {'answer_llm': 'You can access the pre-recorded course videos on the course playlist on YouTube. For more information, visit the course page at [ML Zoomcamp](http://mlzoomcamp.com/) and scroll down to find the links to the videos.',\n",
       "  'answer_orig': 'The course videos are pre-recorded, you can start watching the course right now.\\nWe will also occasionally have office hours - live sessions where we will answer your questions. The office hours sessions are recorded too.\\nYou can see the office hours as well as the pre-recorded course videos in the course playlist on YouTube.',\n",
       "  'document': '39fda9f0',\n",
       "  'question': 'Where can I access the pre-recorded course videos?',\n",
       "  'course': 'machine-learning-zoomcamp'}}"
      ]
     },
     "execution_count": 47,
     "metadata": {},
     "output_type": "execute_result"
    }
   ],
   "source": [
    "answers"
   ]
  },
  {
   "cell_type": "code",
   "execution_count": 48,
   "metadata": {},
   "outputs": [],
   "source": [
    "results_gpt4o = [None] * 10\n",
    "\n",
    "for i, val in answers.items():\n",
    "    results_gpt4o[i] = val.copy()\n",
    "    results_gpt4o[i].update(ground_truth[i])"
   ]
  },
  {
   "cell_type": "code",
   "execution_count": 50,
   "metadata": {},
   "outputs": [
    {
     "data": {
      "text/plain": [
       "[{'answer_llm': 'You can sign up for the course by going to the course page at http://mlzoomcamp.com/. From there, scroll down to access and start going through the course materials. If you are looking for the syllabus directly, you can use this link: http://mlzoomcamp.com/#syllabus.',\n",
       "  'answer_orig': 'Machine Learning Zoomcamp FAQ\\nThe purpose of this document is to capture frequently asked technical questions.\\nWe did this for our data engineering course and it worked quite well. Check this document for inspiration on how to structure your questions and answers:\\nData Engineering Zoomcamp FAQ\\nIn the course GitHub repository there’s a link. Here it is: https://airtable.com/shryxwLd0COOEaqXo\\nwork',\n",
       "  'document': '0227b872',\n",
       "  'question': 'Where can I sign up for the course?',\n",
       "  'course': 'machine-learning-zoomcamp'},\n",
       " {'answer_llm': 'You can find the link to sign up in the course GitHub repository. Here it is: [https://airtable.com/shryxwLd0COOEaqXo](https://airtable.com/shryxwLd0COOEaqXo).',\n",
       "  'answer_orig': 'Machine Learning Zoomcamp FAQ\\nThe purpose of this document is to capture frequently asked technical questions.\\nWe did this for our data engineering course and it worked quite well. Check this document for inspiration on how to structure your questions and answers:\\nData Engineering Zoomcamp FAQ\\nIn the course GitHub repository there’s a link. Here it is: https://airtable.com/shryxwLd0COOEaqXo\\nwork',\n",
       "  'document': '0227b872',\n",
       "  'question': 'Can you provide a link to sign up?',\n",
       "  'course': 'machine-learning-zoomcamp'},\n",
       " {'answer_llm': 'Yes, there is an FAQ for the Machine Learning course. You can find it in the course GitHub repository via this link: [Machine Learning Zoomcamp FAQ](https://airtable.com/shryxwLd0COOEaqXo).',\n",
       "  'answer_orig': 'Machine Learning Zoomcamp FAQ\\nThe purpose of this document is to capture frequently asked technical questions.\\nWe did this for our data engineering course and it worked quite well. Check this document for inspiration on how to structure your questions and answers:\\nData Engineering Zoomcamp FAQ\\nIn the course GitHub repository there’s a link. Here it is: https://airtable.com/shryxwLd0COOEaqXo\\nwork',\n",
       "  'document': '0227b872',\n",
       "  'question': 'Is there an FAQ for this Machine Learning course?',\n",
       "  'course': 'machine-learning-zoomcamp'}]"
      ]
     },
     "execution_count": 50,
     "metadata": {},
     "output_type": "execute_result"
    }
   ],
   "source": [
    "results_gpt4o[:3]"
   ]
  },
  {
   "cell_type": "code",
   "execution_count": 51,
   "metadata": {},
   "outputs": [],
   "source": [
    "import pandas as pd"
   ]
  },
  {
   "cell_type": "code",
   "execution_count": 52,
   "metadata": {},
   "outputs": [],
   "source": [
    "df_gpt4o = pd.DataFrame(results_gpt4o)"
   ]
  },
  {
   "cell_type": "code",
   "execution_count": 54,
   "metadata": {},
   "outputs": [
    {
     "data": {
      "text/html": [
       "<div>\n",
       "<style scoped>\n",
       "    .dataframe tbody tr th:only-of-type {\n",
       "        vertical-align: middle;\n",
       "    }\n",
       "\n",
       "    .dataframe tbody tr th {\n",
       "        vertical-align: top;\n",
       "    }\n",
       "\n",
       "    .dataframe thead th {\n",
       "        text-align: right;\n",
       "    }\n",
       "</style>\n",
       "<table border=\"1\" class=\"dataframe\">\n",
       "  <thead>\n",
       "    <tr style=\"text-align: right;\">\n",
       "      <th></th>\n",
       "      <th>answer_llm</th>\n",
       "      <th>answer_orig</th>\n",
       "      <th>document</th>\n",
       "      <th>question</th>\n",
       "      <th>course</th>\n",
       "    </tr>\n",
       "  </thead>\n",
       "  <tbody>\n",
       "    <tr>\n",
       "      <th>0</th>\n",
       "      <td>You can sign up for the course by going to the...</td>\n",
       "      <td>Machine Learning Zoomcamp FAQ\\nThe purpose of ...</td>\n",
       "      <td>0227b872</td>\n",
       "      <td>Where can I sign up for the course?</td>\n",
       "      <td>machine-learning-zoomcamp</td>\n",
       "    </tr>\n",
       "    <tr>\n",
       "      <th>1</th>\n",
       "      <td>You can find the link to sign up in the course...</td>\n",
       "      <td>Machine Learning Zoomcamp FAQ\\nThe purpose of ...</td>\n",
       "      <td>0227b872</td>\n",
       "      <td>Can you provide a link to sign up?</td>\n",
       "      <td>machine-learning-zoomcamp</td>\n",
       "    </tr>\n",
       "    <tr>\n",
       "      <th>2</th>\n",
       "      <td>Yes, there is an FAQ for the Machine Learning ...</td>\n",
       "      <td>Machine Learning Zoomcamp FAQ\\nThe purpose of ...</td>\n",
       "      <td>0227b872</td>\n",
       "      <td>Is there an FAQ for this Machine Learning course?</td>\n",
       "      <td>machine-learning-zoomcamp</td>\n",
       "    </tr>\n",
       "    <tr>\n",
       "      <th>3</th>\n",
       "      <td>The information provided does not indicate tha...</td>\n",
       "      <td>Machine Learning Zoomcamp FAQ\\nThe purpose of ...</td>\n",
       "      <td>0227b872</td>\n",
       "      <td>Does this course have a GitHub repository for ...</td>\n",
       "      <td>machine-learning-zoomcamp</td>\n",
       "    </tr>\n",
       "    <tr>\n",
       "      <th>4</th>\n",
       "      <td>When structuring your questions and answers fo...</td>\n",
       "      <td>Machine Learning Zoomcamp FAQ\\nThe purpose of ...</td>\n",
       "      <td>0227b872</td>\n",
       "      <td>How can I structure my questions and answers f...</td>\n",
       "      <td>machine-learning-zoomcamp</td>\n",
       "    </tr>\n",
       "  </tbody>\n",
       "</table>\n",
       "</div>"
      ],
      "text/plain": [
       "                                          answer_llm  \\\n",
       "0  You can sign up for the course by going to the...   \n",
       "1  You can find the link to sign up in the course...   \n",
       "2  Yes, there is an FAQ for the Machine Learning ...   \n",
       "3  The information provided does not indicate tha...   \n",
       "4  When structuring your questions and answers fo...   \n",
       "\n",
       "                                         answer_orig  document  \\\n",
       "0  Machine Learning Zoomcamp FAQ\\nThe purpose of ...  0227b872   \n",
       "1  Machine Learning Zoomcamp FAQ\\nThe purpose of ...  0227b872   \n",
       "2  Machine Learning Zoomcamp FAQ\\nThe purpose of ...  0227b872   \n",
       "3  Machine Learning Zoomcamp FAQ\\nThe purpose of ...  0227b872   \n",
       "4  Machine Learning Zoomcamp FAQ\\nThe purpose of ...  0227b872   \n",
       "\n",
       "                                            question  \\\n",
       "0                Where can I sign up for the course?   \n",
       "1                 Can you provide a link to sign up?   \n",
       "2  Is there an FAQ for this Machine Learning course?   \n",
       "3  Does this course have a GitHub repository for ...   \n",
       "4  How can I structure my questions and answers f...   \n",
       "\n",
       "                      course  \n",
       "0  machine-learning-zoomcamp  \n",
       "1  machine-learning-zoomcamp  \n",
       "2  machine-learning-zoomcamp  \n",
       "3  machine-learning-zoomcamp  \n",
       "4  machine-learning-zoomcamp  "
      ]
     },
     "execution_count": 54,
     "metadata": {},
     "output_type": "execute_result"
    }
   ],
   "source": [
    "df_gpt4o.head()"
   ]
  },
  {
   "cell_type": "code",
   "execution_count": 53,
   "metadata": {},
   "outputs": [
    {
     "name": "stderr",
     "output_type": "stream",
     "text": [
      "huggingface/tokenizers: The current process just got forked, after parallelism has already been used. Disabling parallelism to avoid deadlocks...\n",
      "To disable this warning, you can either:\n",
      "\t- Avoid using `tokenizers` before the fork if possible\n",
      "\t- Explicitly set the environment variable TOKENIZERS_PARALLELISM=(true | false)\n"
     ]
    }
   ],
   "source": [
    "!mkdir data"
   ]
  },
  {
   "cell_type": "code",
   "execution_count": 55,
   "metadata": {},
   "outputs": [],
   "source": [
    "df_gpt4o.to_csv('data/results-gpt4o.csv', index=False)"
   ]
  },
  {
   "cell_type": "markdown",
   "metadata": {},
   "source": [
    "### GPT 3.5\n"
   ]
  },
  {
   "cell_type": "code",
   "execution_count": 56,
   "metadata": {},
   "outputs": [
    {
     "data": {
      "text/plain": [
       "'Yes, sessions are recorded so if you miss one, you can still watch it later.'"
      ]
     },
     "execution_count": 56,
     "metadata": {},
     "output_type": "execute_result"
    }
   ],
   "source": [
    "rag(ground_truth[10], model='gpt-3.5-turbo')"
   ]
  },
  {
   "cell_type": "code",
   "execution_count": 57,
   "metadata": {},
   "outputs": [],
   "source": [
    "from tqdm.auto import tqdm\n",
    "\n",
    "from concurrent.futures import ThreadPoolExecutor\n",
    "\n",
    "pool = ThreadPoolExecutor(max_workers=6)\n",
    "\n",
    "def map_progress(pool, seq, f):\n",
    "    results = []\n",
    "\n",
    "    with tqdm(total=len(seq)) as progress:\n",
    "        futures = []\n",
    "\n",
    "        for el in seq:\n",
    "            future = pool.submit(f, el)\n",
    "            future.add_done_callback(lambda p: progress.update())\n",
    "            futures.append(future)\n",
    "\n",
    "        for future in futures:\n",
    "            result = future.result()\n",
    "            results.append(result)\n",
    "\n",
    "    return results"
   ]
  },
  {
   "cell_type": "code",
   "execution_count": 58,
   "metadata": {},
   "outputs": [],
   "source": [
    "def process_record(rec):\n",
    "    model = 'gpt-3.5-turbo'\n",
    "    answer_llm = rag(rec, model=model)\n",
    "    \n",
    "    doc_id = rec['document']\n",
    "    original_doc = doc_idx[doc_id]\n",
    "    answer_orig = original_doc['text']\n",
    "\n",
    "    return {\n",
    "        'answer_llm': answer_llm,\n",
    "        'answer_orig': answer_orig,\n",
    "        'document': doc_id,\n",
    "        'question': rec['question'],\n",
    "        'course': rec['course'],\n",
    "    }"
   ]
  },
  {
   "cell_type": "code",
   "execution_count": 59,
   "metadata": {},
   "outputs": [
    {
     "data": {
      "text/plain": [
       "{'answer_llm': 'No, sessions are recorded so if you miss one, you will be able to watch it later.',\n",
       " 'answer_orig': 'Everything is recorded, so you won’t miss anything. You will be able to ask your questions for office hours in advance and we will cover them during the live stream. Also, you can always ask questions in Slack.',\n",
       " 'document': '5170565b',\n",
       " 'question': 'Are sessions recorded if I miss one?',\n",
       " 'course': 'machine-learning-zoomcamp'}"
      ]
     },
     "execution_count": 59,
     "metadata": {},
     "output_type": "execute_result"
    }
   ],
   "source": [
    "process_record(ground_truth[10])"
   ]
  },
  {
   "cell_type": "code",
   "execution_count": 60,
   "metadata": {},
   "outputs": [
    {
     "name": "stderr",
     "output_type": "stream",
     "text": [
      "100%|██████████| 10/10 [00:03<00:00,  2.66it/s]\n"
     ]
    }
   ],
   "source": [
    "results_gpt35 = map_progress(pool, ground_truth[:10], process_record)"
   ]
  },
  {
   "cell_type": "code",
   "execution_count": 61,
   "metadata": {},
   "outputs": [],
   "source": [
    "df_gpt35 = pd.DataFrame(results_gpt35)\n",
    "df_gpt35.to_csv('data/results-gpt35.csv', index=False)"
   ]
  },
  {
   "cell_type": "code",
   "execution_count": null,
   "metadata": {},
   "outputs": [],
   "source": []
  }
 ],
 "metadata": {
  "kernelspec": {
   "display_name": "venv",
   "language": "python",
   "name": "python3"
  },
  "language_info": {
   "codemirror_mode": {
    "name": "ipython",
    "version": 3
   },
   "file_extension": ".py",
   "mimetype": "text/x-python",
   "name": "python",
   "nbconvert_exporter": "python",
   "pygments_lexer": "ipython3",
   "version": "3.9.6"
  }
 },
 "nbformat": 4,
 "nbformat_minor": 2
}
